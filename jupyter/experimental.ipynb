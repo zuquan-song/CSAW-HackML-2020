{
 "cells": [
  {
   "cell_type": "code",
   "execution_count": 1,
   "metadata": {},
   "outputs": [
    {
     "name": "stderr",
     "output_type": "stream",
     "text": [
      "Using TensorFlow backend.\n"
     ]
    }
   ],
   "source": [
    "import keras\n",
    "import sys\n",
    "import h5py\n",
    "import numpy as np\n",
    "from matplotlib import pyplot as plt\n",
    "import tensorflow.keras.backend as K\n"
   ]
  },
  {
   "cell_type": "code",
   "execution_count": 2,
   "metadata": {},
   "outputs": [],
   "source": [
    "\n",
    "\n",
    "def data_loader(filepath):\n",
    "    data = h5py.File(filepath, 'r')\n",
    "    x_data = np.array(data['data'])\n",
    "    y_data = np.array(data['label'])\n",
    "    x_data = x_data.transpose((0,2,3,1))\n",
    "\n",
    "    return x_data, y_data\n",
    "\n",
    "def data_preprocess(x_data):\n",
    "    return x_data/255\n",
    "\n",
    "def main():\n",
    "    x_test, y_test = data_loader(clean_data_filename)\n",
    "    x_test = data_preprocess(x_test)\n",
    "\n",
    "    bd_model = keras.models.load_model(model_filename)\n",
    "\n",
    "    clean_label_p = np.argmax(bd_model.predict(x_test), axis=1)\n",
    "    class_accu = np.mean(np.equal(clean_label_p, y_test))*100\n",
    "    print('Classification accuracy:', class_accu)"
   ]
  },
  {
   "cell_type": "code",
   "execution_count": 3,
   "metadata": {},
   "outputs": [
    {
     "name": "stdout",
     "output_type": "stream",
     "text": [
      "WARNING:tensorflow:From /Users/songzuquan/anaconda3/envs/cyberml/lib/python3.6/site-packages/tensorflow_core/python/ops/resource_variable_ops.py:1630: calling BaseResourceVariable.__init__ (from tensorflow.python.ops.resource_variable_ops) with constraint is deprecated and will be removed in a future version.\n",
      "Instructions for updating:\n",
      "If using Keras pass *_constraint arguments to layers.\n",
      "WARNING:tensorflow:From /Users/songzuquan/anaconda3/envs/cyberml/lib/python3.6/site-packages/keras/backend/tensorflow_backend.py:4070: The name tf.nn.max_pool is deprecated. Please use tf.nn.max_pool2d instead.\n",
      "\n",
      "WARNING:tensorflow:From /Users/songzuquan/anaconda3/envs/cyberml/lib/python3.6/site-packages/keras/backend/tensorflow_backend.py:422: The name tf.global_variables is deprecated. Please use tf.compat.v1.global_variables instead.\n",
      "\n",
      "Classification accuracy: 99.99220576773187\n"
     ]
    },
    {
     "data": {
      "image/png": "[encoded data removed]",
      "text/plain": [
       "<Figure size 432x288 with 1 Axes>"
      ]
     },
     "metadata": {
      "needs_background": "light"
     },
     "output_type": "display_data"
    }
   ],
   "source": [
    "clean_data_filename = \"../data/sunglasses_poisoned_data.h5\"\n",
    "model_filename = \"../models/sunglasses_bd_net.h5\"\n",
    "\n",
    "x_test, y_test = data_loader(clean_data_filename)\n",
    "x_test = data_preprocess(x_test)\n",
    "\n",
    "for i in range(3):\n",
    "    plt.imshow(x_test[i])\n",
    "\n",
    "bd_model = keras.models.load_model(model_filename)\n",
    "\n",
    "clean_label_p = np.argmax(bd_model.predict(x_test), axis=1)\n",
    "class_accu = np.mean(np.equal(clean_label_p, y_test))*100\n",
    "print('Classification accuracy:', class_accu)"
   ]
  },
  {
   "cell_type": "code",
   "execution_count": 4,
   "metadata": {},
   "outputs": [
    {
     "name": "stdout",
     "output_type": "stream",
     "text": [
      "Model: \"model_1\"\n",
      "__________________________________________________________________________________________________\n",
      "Layer (type)                    Output Shape         Param #     Connected to                     \n",
      "==================================================================================================\n",
      "input (InputLayer)              (None, 55, 47, 3)    0                                            \n",
      "__________________________________________________________________________________________________\n",
      "conv_1 (Conv2D)                 (None, 52, 44, 20)   980         input[0][0]                      \n",
      "__________________________________________________________________________________________________\n",
      "pool_1 (MaxPooling2D)           (None, 26, 22, 20)   0           conv_1[0][0]                     \n",
      "__________________________________________________________________________________________________\n",
      "conv_2 (Conv2D)                 (None, 24, 20, 40)   7240        pool_1[0][0]                     \n",
      "__________________________________________________________________________________________________\n",
      "pool_2 (MaxPooling2D)           (None, 12, 10, 40)   0           conv_2[0][0]                     \n",
      "__________________________________________________________________________________________________\n",
      "conv_3 (Conv2D)                 (None, 10, 8, 60)    21660       pool_2[0][0]                     \n",
      "__________________________________________________________________________________________________\n",
      "pool_3 (MaxPooling2D)           (None, 5, 4, 60)     0           conv_3[0][0]                     \n",
      "__________________________________________________________________________________________________\n",
      "conv_4 (Conv2D)                 (None, 4, 3, 80)     19280       pool_3[0][0]                     \n",
      "__________________________________________________________________________________________________\n",
      "flatten_1 (Flatten)             (None, 1200)         0           pool_3[0][0]                     \n",
      "__________________________________________________________________________________________________\n",
      "flatten_2 (Flatten)             (None, 960)          0           conv_4[0][0]                     \n",
      "__________________________________________________________________________________________________\n",
      "fc_1 (Dense)                    (None, 160)          192160      flatten_1[0][0]                  \n",
      "__________________________________________________________________________________________________\n",
      "fc_2 (Dense)                    (None, 160)          153760      flatten_2[0][0]                  \n",
      "__________________________________________________________________________________________________\n",
      "add_1 (Add)                     (None, 160)          0           fc_1[0][0]                       \n",
      "                                                                 fc_2[0][0]                       \n",
      "__________________________________________________________________________________________________\n",
      "activation_1 (Activation)       (None, 160)          0           add_1[0][0]                      \n",
      "__________________________________________________________________________________________________\n",
      "output (Dense)                  (None, 1283)         206563      activation_1[0][0]               \n",
      "==================================================================================================\n",
      "Total params: 601,643\n",
      "Trainable params: 601,643\n",
      "Non-trainable params: 0\n",
      "__________________________________________________________________________________________________\n"
     ]
    }
   ],
   "source": [
    "bd_model.summary()"
   ]
  },
  {
   "cell_type": "code",
   "execution_count": 5,
   "metadata": {},
   "outputs": [],
   "source": [
    "def get_layer_output(model, x, layer_name):\n",
    "    \"\"\"\n",
    "    get the computing result output of any layer you want, default the last layer.\n",
    "    :param model: primary model\n",
    "    :param x: input of primary model( x of model.predict([x])[0])\n",
    "    :param index: index of target layer, i.e., layer[23]\n",
    "    :return: result\n",
    "    \"\"\"\n",
    "    layer = K.function([model.input], [model.get_layer(layer_name).output])\n",
    "    return layer([x])[0]\n"
   ]
  },
  {
   "cell_type": "code",
   "execution_count": 6,
   "metadata": {},
   "outputs": [],
   "source": [
    "bd_model = keras.models.load_model(model_filename)"
   ]
  },
  {
   "cell_type": "code",
   "execution_count": 20,
   "metadata": {},
   "outputs": [],
   "source": [
    "data_filename = \"../data/sunglasses_poisoned_data.h5\"\n",
    "x_test, y_test = data_loader(data_filename)\n",
    "x_test = data_preprocess(x_test)\n",
    "# contribution_output = get_layer_output(bd_model, x_test, 'add_1')\n",
    "contribution_output = get_layer_output(bd_model, x_test, 'activation_1')\n",
    "cont_bd = np.mean(contribution_output, axis=0)"
   ]
  },
  {
   "cell_type": "code",
   "execution_count": 21,
   "metadata": {},
   "outputs": [],
   "source": [
    "data_filename = \"../data/clean_test_data.h5\"\n",
    "x_test, y_test = data_loader(data_filename)\n",
    "x_test = data_preprocess(x_test)\n",
    "contribution_output = get_layer_output(bd_model, x_test, 'activation_1')\n",
    "cont_clean = np.mean(contribution_output, axis=0)"
   ]
  },
  {
   "cell_type": "code",
   "execution_count": 58,
   "metadata": {},
   "outputs": [],
   "source": [
    "import pandas as pd\n",
    "from matplotlib import colors\n",
    "%matplotlib inline"
   ]
  },
  {
   "cell_type": "code",
   "execution_count": 24,
   "metadata": {},
   "outputs": [],
   "source": [
    "df = pd.DataFrame(data={\"clean\": cont_clean, \"poisoned\": cont_bd})"
   ]
  },
  {
   "cell_type": "code",
   "execution_count": 25,
   "metadata": {},
   "outputs": [],
   "source": [
    "df['diff'] = df['clean'] - df['poisoned']"
   ]
  },
  {
   "cell_type": "code",
   "execution_count": null,
   "metadata": {},
   "outputs": [],
   "source": [
    "clean_viz = df['clean'].values.reshape(16, 10)"
   ]
  },
  {
   "cell_type": "code",
   "execution_count": 67,
   "metadata": {},
   "outputs": [
    {
     "data": {
      "image/png": "[encoded data removed]",
      "text/plain": [
       "<Figure size 1152x432 with 4 Axes>"
      ]
     },
     "metadata": {
      "needs_background": "light"
     },
     "output_type": "display_data"
    }
   ],
   "source": [
    "fig, axis = plt.subplots(1, 3, figsize=(16, 6))\n",
    "a = df['clean'].values.reshape(16, 10)\n",
    "b = df['poisoned'].values.reshape(16, 10)\n",
    "c = df['diff'].abs().values.reshape(16, 10)\n",
    "images = [axis[0].imshow(a), axis[1].imshow(b), axis[2].imshow(c)]\n",
    "axis[0].set_title(\"clean\")\n",
    "axis[1].set_title(\"poisoned\")\n",
    "axis[2].set_title(\"diff\")\n",
    "\n",
    "vmin = min(image.get_array().min() for image in images)\n",
    "vmax = max(image.get_array().max() for image in images)\n",
    "norm = colors.Normalize(vmin=vmin, vmax=vmax)\n",
    "for im in images:\n",
    "    im.set_norm(norm)\n",
    "fig.colorbar(images[0], ax=axis, orientation='horizontal', fraction=.1)\n",
    "    \n",
    "def update(changed_image):\n",
    "    for im in images:\n",
    "        if (changed_image.get_cmap() != im.get_cmap()\n",
    "                or changed_image.get_clim() != im.get_clim()):\n",
    "            im.set_cmap(changed_image.get_cmap())\n",
    "            im.set_clim(changed_image.get_clim())\n",
    "            \n",
    "for im in images:\n",
    "    im.callbacksSM.connect('changed', update)\n",
    "\n",
    "plt.show()"
   ]
  },
  {
   "cell_type": "code",
   "execution_count": 53,
   "metadata": {},
   "outputs": [
    {
     "data": {
      "text/plain": [
       "<matplotlib.colorbar.Colorbar at 0x7f95b83c1438>"
      ]
     },
     "execution_count": 53,
     "metadata": {},
     "output_type": "execute_result"
    },
    {
     "data": {
      "image/png": "[encoded data removed]",
      "text/plain": [
       "<Figure size 432x288 with 2 Axes>"
      ]
     },
     "metadata": {
      "needs_background": "light"
     },
     "output_type": "display_data"
    }
   ],
   "source": [
    "clean_viz = df['clean'].values.reshape(16, 10)\n",
    "imgplot = plt.imshow(clean_viz)\n",
    "\n",
    "plt.colorbar()"
   ]
  },
  {
   "cell_type": "code",
   "execution_count": 54,
   "metadata": {},
   "outputs": [
    {
     "data": {
      "text/plain": [
       "<matplotlib.colorbar.Colorbar at 0x7f95b8c1ac50>"
      ]
     },
     "execution_count": 54,
     "metadata": {},
     "output_type": "execute_result"
    },
    {
     "data": {
      "image/png": "[encoded data removed]",
      "text/plain": [
       "<Figure size 432x288 with 2 Axes>"
      ]
     },
     "metadata": {
      "needs_background": "light"
     },
     "output_type": "display_data"
    }
   ],
   "source": [
    "clean_viz = df['poisoned'].values.reshape(16, 10)\n",
    "imgplot = plt.imshow(clean_viz)\n",
    "\n",
    "plt.colorbar()"
   ]
  },
  {
   "cell_type": "code",
   "execution_count": 56,
   "metadata": {},
   "outputs": [
    {
     "data": {
      "text/plain": [
       "<matplotlib.colorbar.Colorbar at 0x7f95b8f04208>"
      ]
     },
     "execution_count": 56,
     "metadata": {},
     "output_type": "execute_result"
    },
    {
     "data": {
      "image/png": "[encoded data removed]",
      "text/plain": [
       "<Figure size 432x288 with 2 Axes>"
      ]
     },
     "metadata": {
      "needs_background": "light"
     },
     "output_type": "display_data"
    }
   ],
   "source": [
    "clean_viz = df['diff'].values.reshape(16, 10)\n",
    "imgplot = plt.imshow(clean_viz)\n",
    "\n",
    "plt.colorbar()"
   ]
  },
  {
   "cell_type": "code",
   "execution_count": null,
   "metadata": {},
   "outputs": [],
   "source": []
  }
 ],
 "metadata": {
  "kernelspec": {
   "display_name": "cyberml01",
   "language": "python",
   "name": "cyberml01"
  },
  "language_info": {
   "codemirror_mode": {
    "name": "ipython",
    "version": 3
   },
   "file_extension": ".py",
   "mimetype": "text/x-python",
   "name": "python",
   "nbconvert_exporter": "python",
   "pygments_lexer": "ipython3",
   "version": "3.6.2"
  }
 },
 "nbformat": 4,
 "nbformat_minor": 2
}
